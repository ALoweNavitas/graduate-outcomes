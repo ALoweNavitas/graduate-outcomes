{
 "cells": [
  {
   "cell_type": "code",
   "execution_count": 1,
   "metadata": {},
   "outputs": [],
   "source": [
    "import pandas as pd\n",
    "import os\n",
    "import zipfile"
   ]
  },
  {
   "cell_type": "code",
   "execution_count": 2,
   "metadata": {},
   "outputs": [],
   "source": [
    "# establish a dictionary for each tables purpose\n",
    "grad_dict = {\n",
    "    \"table-1\" : \"Graduate activities by provider and sex\",\n",
    "    \"table-2\" : \"Graduate activities by provider and age group\",\n",
    "    \"table-3\" : \"Graduate activities by provider and disability\",\n",
    "    \"table-4\" : \"UK domiciled graduate activities by provider and ethnicity\",\n",
    "    \"table-5\" : \"Response rates by provider\",\n",
    "    \"table-6\" : \"Graduate activities by provider\",\n",
    "    \"table-8\" : \"Graduate reflectionsd by provider\"\n",
    "}"
   ]
  },
  {
   "cell_type": "code",
   "execution_count": 3,
   "metadata": {},
   "outputs": [],
   "source": [
    "files_dir = 'extracted-tables'\n",
    "\n",
    "def combine_tables(tables_to_extract):\n",
    "    for table in tables_to_extract:\n",
    "        all_data = []\n",
    "        for root, _, files in os.walk(files_dir):\n",
    "            for file in files:\n",
    "                if table in file:\n",
    "                    file_path = os.path.join(root, file)\n",
    "                    table_name = file[:7] # get the table name\n",
    "                    table_year = file[-11:-4] # get the year of the data\n",
    "                    \n",
    "                    df = pd.read_csv(file_path, low_memory=False)\n",
    "                    header_row_index = None\n",
    "                    for index, row in df.head(20).iterrows():\n",
    "                        if 'UKPRN' in row.values:\n",
    "                            header_row_index = index\n",
    "                            break\n",
    "                    df.columns = df.iloc[header_row_index]\n",
    "                    df = df[header_row_index + 1:].reset_index(drop=True)\n",
    "                    df['tableName'] = grad_dict[table_name] # find the full table name from the grad dict\n",
    "                    df['tableYear'] = table_year\n",
    "                    df['sourceTable'] = table_name\n",
    "\n",
    "                    # combine into a list\n",
    "                    all_data.append(df)\n",
    "\n",
    "                    # make one large dataframe\n",
    "                    fdf = pd.concat(all_data)\n",
    "                else:\n",
    "                    break\n",
    "\n",
    "        # export as a csv\n",
    "        fdf.to_csv(f\"{table}-go-data.csv\", index=False)\n",
    "        print(f\"Finished exporting -> {table}\")\n",
    "\n",
    "combine_tables(tables_to_extract=['table-1', 'table-2', 'table-3', 'table-4', 'table-6', 'table-8'])"
   ]
  }
 ],
 "metadata": {
  "kernelspec": {
   "display_name": "env",
   "language": "python",
   "name": "python3"
  },
  "language_info": {
   "codemirror_mode": {
    "name": "ipython",
    "version": 3
   },
   "file_extension": ".py",
   "mimetype": "text/x-python",
   "name": "python",
   "nbconvert_exporter": "python",
   "pygments_lexer": "ipython3",
   "version": "3.12.3"
  }
 },
 "nbformat": 4,
 "nbformat_minor": 2
}
