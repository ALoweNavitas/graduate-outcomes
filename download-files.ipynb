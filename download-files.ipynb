{
 "cells": [
  {
   "cell_type": "code",
   "execution_count": 29,
   "metadata": {},
   "outputs": [],
   "source": [
    "import requests\n",
    "import os\n",
    "import zipfile\n",
    "from tqdm import tqdm"
   ]
  },
  {
   "cell_type": "code",
   "execution_count": 30,
   "metadata": {},
   "outputs": [],
   "source": [
    "urls = [\n",
    "    \"https://www.hesa.ac.uk/data-and-analysis/graduates/table-1.csv\",\n",
    "    \"https://www.hesa.ac.uk/data-and-analysis/graduates/table-2.csv\",\n",
    "    \"https://www.hesa.ac.uk/data-and-analysis/graduates/table-3.csv\",\n",
    "    \"https://www.hesa.ac.uk/data-and-analysis/graduates/table-4.csv\",\n",
    "    \"https://www.hesa.ac.uk/data-and-analysis/graduates/table-6.csv\",\n",
    "    \"https://www.hesa.ac.uk/data-and-analysis/graduates/table-8.csv\"\n",
    "]"
   ]
  },
  {
   "cell_type": "code",
   "execution_count": 31,
   "metadata": {},
   "outputs": [
    {
     "name": "stderr",
     "output_type": "stream",
     "text": [
      "327547it [00:01, 206542.41it/s]\n",
      "432715it [00:03, 139030.44it/s]\n",
      "305070it [00:01, 232916.19it/s]\n",
      "208984it [00:00, 229632.57it/s]\n",
      "128743it [00:00, 218726.54it/s]\n",
      "133497it [00:00, 229798.58it/s]\n"
     ]
    },
    {
     "name": "stdout",
     "output_type": "stream",
     "text": [
      "Finished downloading files\n"
     ]
    }
   ],
   "source": [
    "def download_graduate_outcome_files(urls, dir_to_save_to):\n",
    "    \"\"\"Downloads files from the given URLs and also creates a dir for the given input\n",
    "\n",
    "    ------------------------------\n",
    "\n",
    "    Variables:\n",
    "\n",
    "      urls: str\n",
    "        The URLs to download files from. There should be from the graduate outcomes source files from HESA\n",
    "      \n",
    "      dir_to_save_to: str\n",
    "        The directory you want to create and/ or store files to. If exists, OK.\n",
    "    \n",
    "    ------------------------------\n",
    "\n",
    "    Returns:\n",
    "      None\n",
    "    \"\"\"\n",
    "    \n",
    "    # make the dir if it does not exist; OK if it does\n",
    "    os.makedirs(dir_to_save_to, exist_ok=True)\n",
    "\n",
    "    for url in urls:\n",
    "        r = requests.get(url, stream=True)\n",
    "        download_file_name = r.headers['Etag'].replace('\"','')\n",
    "\n",
    "        with open(f'{dir_to_save_to}/{download_file_name}.zip', 'wb') as handle:\n",
    "            for data in tqdm(r.iter_content(chunk_size=100)):\n",
    "                handle.write(data)\n",
    "\n",
    "        # extract zip files for processing\n",
    "        for root, dirs, files in os.walk(dir_to_save_to):\n",
    "            for file in files:\n",
    "                if file.endswith('.zip'):\n",
    "                    zip_file_name = os.path.join(root, file)\n",
    "                    with zipfile.ZipFile(zip_file_name, 'r') as zip_ref:\n",
    "                        zip_ref.extractall(dir_to_save_to)\n",
    "    \n",
    "    # delete zips\n",
    "    for root, dirs, files in os.walk(dir_to_save_to):\n",
    "        for file in files:\n",
    "            if file.endswith('.zip'):\n",
    "                os.remove(os.path.join(root, file))\n",
    "\n",
    "    print(\"Finished downloading files\")\n",
    "\n",
    "download_graduate_outcome_files(urls=urls, dir_to_save_to='extracted-tables')\n"
   ]
  }
 ],
 "metadata": {
  "kernelspec": {
   "display_name": "env",
   "language": "python",
   "name": "python3"
  },
  "language_info": {
   "codemirror_mode": {
    "name": "ipython",
    "version": 3
   },
   "file_extension": ".py",
   "mimetype": "text/x-python",
   "name": "python",
   "nbconvert_exporter": "python",
   "pygments_lexer": "ipython3",
   "version": "3.12.3"
  }
 },
 "nbformat": 4,
 "nbformat_minor": 2
}
